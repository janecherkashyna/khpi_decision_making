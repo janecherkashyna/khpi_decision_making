{
  "cells": [
    {
      "cell_type": "markdown",
      "metadata": {
        "id": "view-in-github",
        "colab_type": "text"
      },
      "source": [
        "<a href=\"https://colab.research.google.com/github/janecherkashyna/khpi_decision_making/blob/main/Cherkashyna_%22My_sample_notebook_ipynb%22.ipynb\" target=\"_parent\"><img src=\"https://colab.research.google.com/assets/colab-badge.svg\" alt=\"Open In Colab\"/></a>"
      ]
    },
    {
      "cell_type": "markdown",
      "metadata": {
        "id": "CKrBa6vgeSJu"
      },
      "source": [
        "**Uncomment the following lines (by deleting the leading `#`) if you are running this in Colab. (Thanks to Jake VanderPlas for the tip!)**"
      ]
    },
    {
      "cell_type": "code",
      "execution_count": 1,
      "metadata": {
        "id": "H3SBOvz5eSJ1",
        "colab": {
          "base_uri": "https://localhost:8080/"
        },
        "outputId": "8148d677-042c-4ff7-a801-b055c28a2606"
      },
      "outputs": [
        {
          "output_type": "stream",
          "name": "stdout",
          "text": [
            "Collecting biopython\n",
            "  Downloading biopython-1.85-cp312-cp312-manylinux_2_17_x86_64.manylinux2014_x86_64.whl.metadata (13 kB)\n",
            "Requirement already satisfied: numpy in /usr/local/lib/python3.12/dist-packages (from biopython) (2.0.2)\n",
            "Downloading biopython-1.85-cp312-cp312-manylinux_2_17_x86_64.manylinux2014_x86_64.whl (3.3 MB)\n",
            "\u001b[2K   \u001b[90m━━━━━━━━━━━━━━━━━━━━━━━━━━━━━━━━━━━━━━━━\u001b[0m \u001b[32m3.3/3.3 MB\u001b[0m \u001b[31m25.5 MB/s\u001b[0m eta \u001b[36m0:00:00\u001b[0m\n",
            "\u001b[?25hInstalling collected packages: biopython\n",
            "Successfully installed biopython-1.85\n",
            "Requirement already satisfied: folium in /usr/local/lib/python3.12/dist-packages (0.20.0)\n",
            "Requirement already satisfied: branca>=0.6.0 in /usr/local/lib/python3.12/dist-packages (from folium) (0.8.1)\n",
            "Requirement already satisfied: jinja2>=2.9 in /usr/local/lib/python3.12/dist-packages (from folium) (3.1.6)\n",
            "Requirement already satisfied: numpy in /usr/local/lib/python3.12/dist-packages (from folium) (2.0.2)\n",
            "Requirement already satisfied: requests in /usr/local/lib/python3.12/dist-packages (from folium) (2.32.4)\n",
            "Requirement already satisfied: xyzservices in /usr/local/lib/python3.12/dist-packages (from folium) (2025.4.0)\n",
            "Requirement already satisfied: MarkupSafe>=2.0 in /usr/local/lib/python3.12/dist-packages (from jinja2>=2.9->folium) (3.0.3)\n",
            "Requirement already satisfied: charset_normalizer<4,>=2 in /usr/local/lib/python3.12/dist-packages (from requests->folium) (3.4.3)\n",
            "Requirement already satisfied: idna<4,>=2.5 in /usr/local/lib/python3.12/dist-packages (from requests->folium) (3.10)\n",
            "Requirement already satisfied: urllib3<3,>=1.21.1 in /usr/local/lib/python3.12/dist-packages (from requests->folium) (2.5.0)\n",
            "Requirement already satisfied: certifi>=2017.4.17 in /usr/local/lib/python3.12/dist-packages (from requests->folium) (2025.8.3)\n",
            "  % Total    % Received % Xferd  Average Speed   Time    Time     Time  Current\n",
            "                                 Dload  Upload   Total   Spent    Left  Speed\n",
            "100 31838  100 31838    0     0   103k      0 --:--:-- --:--:-- --:--:--  104k\n"
          ]
        }
      ],
      "source": [
        "!pip install biopython\n",
        "!pip install folium\n",
        "!curl -O https://raw.githubusercontent.com/jperkel/example_notebook/master/NC_005816.gb"
      ]
    },
    {
      "cell_type": "markdown",
      "metadata": {
        "id": "lXI4M3ToeSJ3"
      },
      "source": [
        "This simple notebook demonstrates how users can interleave text, code, and results in a single document. We start with a simple calculation -- computing the first 25 numbers in the Fibonacci sequence, where each value equals the sum of the two previous values. The Jupyter notebook allows us to express that mathematically, using the typesetting language $\\LaTeX{}$: $$F_n = F_{n-1} + F_{n-2}$$\n",
        "Thus, the sequence is: 0, 1, 1, 2, 3, 5, 8, ..."
      ]
    },
    {
      "cell_type": "markdown",
      "metadata": {
        "id": "1Pyhb-fpeSJ4"
      },
      "source": [
        "The first cell contains an IPython 'magic' code, '%matplotlib', which allows the notebook to display plots inline, in the body of the notebook."
      ]
    },
    {
      "cell_type": "code",
      "execution_count": 2,
      "metadata": {
        "id": "z82JhouCeSJ5"
      },
      "outputs": [],
      "source": [
        "%matplotlib inline"
      ]
    },
    {
      "cell_type": "code",
      "execution_count": 3,
      "metadata": {
        "id": "vAWmgr25eSJ6"
      },
      "outputs": [],
      "source": [
        "import matplotlib.pyplot as plt"
      ]
    },
    {
      "cell_type": "code",
      "execution_count": 4,
      "metadata": {
        "id": "WVzJudgxeSJ7",
        "outputId": "5edc4375-2bf5-446c-ba73-a096d8a10376",
        "colab": {
          "base_uri": "https://localhost:8080/"
        }
      },
      "outputs": [
        {
          "output_type": "stream",
          "name": "stdout",
          "text": [
            "[0, 1, 1, 2, 3, 5, 8, 13, 21, 34, 55, 89, 144, 233, 377, 610, 987, 1597, 2584, 4181, 6765, 10946, 17711, 28657, 46368]\n"
          ]
        }
      ],
      "source": [
        "# calculate the first 25 Fibonacci numbers\n",
        "f1 = 0\n",
        "f2 = 1\n",
        "ar = [f1, f2] # a list to hold the computed values. We know the first two numbers\n",
        "\n",
        "# we only need to run our calculation 23 times, because positions 1 and 2 are known\n",
        "for i in range (23):\n",
        "    f3 = f1 + f2\n",
        "    ar.append (f3)\n",
        "    f1 = f2\n",
        "    f2 = f3\n",
        "\n",
        "print (ar) # below, you see the output of the code itself."
      ]
    },
    {
      "cell_type": "markdown",
      "metadata": {
        "id": "M7K0TjuaeSJ9"
      },
      "source": [
        "Plot the data"
      ]
    },
    {
      "cell_type": "code",
      "execution_count": 5,
      "metadata": {
        "id": "H1AgWsTqeSJ9",
        "outputId": "76e4c8d0-9fd1-493c-9806-99cb689bca6e",
        "colab": {
          "base_uri": "https://localhost:8080/",
          "height": 472
        }
      },
      "outputs": [
        {
          "output_type": "display_data",
          "data": {
            "text/plain": [
              "<Figure size 640x480 with 1 Axes>"
            ],
            "image/png": "[encoded data removed]"
          },
          "metadata": {}
        }
      ],
      "source": [
        "fig, ax = plt.subplots()\n",
        "ax.plot (range(25), ar, \"ro\")\n",
        "## uncomment the following call to ax.plot() (by removing the leading '#') and select\n",
        "## 'Cell > Run All' (in Binder) or 'Run > Run All Cells' (Jupyter) to change the graph below\n",
        "# ax.plot (range(25), ar)\n",
        "ax.set (xlabel = \"Sequence No.\", ylabel = \"Fibonacci No.\",\n",
        "       title = \"The First 25 Fibonacci Numbers\")\n",
        "plt.show()"
      ]
    },
    {
      "cell_type": "markdown",
      "metadata": {
        "id": "LSrs__LpeSJ-"
      },
      "source": [
        "Anything you can do programmatically, can be documented in a notebook. Here we'll do some simple sequence analysis with Biopython. The following example is adapted from the [Biopython tutorial](http://biopython.org/DIST/docs/tutorial/Tutorial.html)."
      ]
    },
    {
      "cell_type": "markdown",
      "metadata": {
        "id": "P5awJzi2eSJ_"
      },
      "source": [
        "First, we'll read in a Genbank-formatted file, which represents a circular DNA, called a plasmid, from the bacterium, *Yersinia pestis*."
      ]
    },
    {
      "cell_type": "code",
      "execution_count": 6,
      "metadata": {
        "id": "vlAUTKxseSJ_",
        "outputId": "e9c509bb-b62e-4402-fddf-276d4f67ba24",
        "colab": {
          "base_uri": "https://localhost:8080/"
        }
      },
      "outputs": [
        {
          "output_type": "execute_result",
          "data": {
            "text/plain": [
              "Seq('TGTAACGAACGGTGCAATAGTGATCCACACCCAACGCCTGAAATCAGATCCAGG...CTG')"
            ]
          },
          "metadata": {},
          "execution_count": 6
        }
      ],
      "source": [
        "from Bio import SeqIO\n",
        "\n",
        "record = SeqIO.read(\"NC_005816.gb\", \"genbank\")\n",
        "record.seq"
      ]
    },
    {
      "cell_type": "markdown",
      "metadata": {
        "id": "XftHgz1PeSJ_"
      },
      "source": [
        "How long is the DNA, and how which genes does it encode?"
      ]
    },
    {
      "cell_type": "code",
      "execution_count": 7,
      "metadata": {
        "id": "Li8kaCIUeSKA",
        "outputId": "716a52fd-c3f5-41b0-d71a-c08e41b8d374",
        "colab": {
          "base_uri": "https://localhost:8080/"
        }
      },
      "outputs": [
        {
          "output_type": "stream",
          "name": "stdout",
          "text": [
            "Length: 9609 bp\n",
            "No. features: 41 \n",
            "\n",
            "Feat. 3: putative transposase\n",
            "Feat. 8: transposase/IS protein\n",
            "Feat. 15: putative replication regulatory protein\n",
            "Feat. 18: hypothetical protein\n",
            "Feat. 21: pesticin immunity protein\n",
            "Feat. 23: pesticin\n",
            "Feat. 29: hypothetical protein\n",
            "Feat. 32: outer membrane protease\n",
            "Feat. 35: putative transcriptional regulator\n",
            "Feat. 38: hypothetical protein\n"
          ]
        }
      ],
      "source": [
        "print(\"Length:\", len(record.seq), \"bp\")\n",
        "print(\"No. features:\", len(record.features),\"\\n\")\n",
        "\n",
        "for i,feat in enumerate (record.features):\n",
        "    if (feat.type == \"CDS\"):\n",
        "        product = feat.qualifiers['product'][0]\n",
        "        print (\"Feat. %d: %s\" % (i, product))"
      ]
    },
    {
      "cell_type": "markdown",
      "metadata": {
        "id": "qPpXT2WMeSKA"
      },
      "source": [
        "This plasmid encodes 41 features, including 10 genes. Let's focus on feature #18, which encodes a 'hypothetical protein'."
      ]
    },
    {
      "cell_type": "code",
      "execution_count": 8,
      "metadata": {
        "id": "kpiElEhPeSKB",
        "outputId": "0a315a31-aafa-4fa9-b20c-2e2e168b6946",
        "colab": {
          "base_uri": "https://localhost:8080/"
        }
      },
      "outputs": [
        {
          "output_type": "stream",
          "name": "stdout",
          "text": [
            "Gene location\n",
            "Start: 3485 \n",
            "End: 3857\n",
            "GeneID: ['GI:45478715', 'GeneID:2767720']\n"
          ]
        }
      ],
      "source": [
        "feat = record.features[18]\n",
        "print (\"Gene location\\nStart:\", feat.location.start, \"\\nEnd:\", feat.location.end)\n",
        "print (\"GeneID:\", feat.qualifiers.get(\"db_xref\"))"
      ]
    },
    {
      "cell_type": "markdown",
      "metadata": {
        "id": "geQ6Wb8yeSKB"
      },
      "source": [
        "These data show us that the gene is located between bases 3485 and 3857. Let's retrieve that segment and translate it."
      ]
    },
    {
      "cell_type": "code",
      "execution_count": 9,
      "metadata": {
        "id": "gRLFenYXeSKB",
        "outputId": "d3ab303d-8876-411f-b2f0-206fae11b71d",
        "colab": {
          "base_uri": "https://localhost:8080/"
        }
      },
      "outputs": [
        {
          "output_type": "stream",
          "name": "stdout",
          "text": [
            "VSKKRRPQKRPRRRRFFHRLRPPDEHHKNRRSSQRWRNPTGLKDTRRFPPEAPSCALLFRPCRLPDTSPPFSLREAWRFLIAHAVGISVRCRSFAPSWAVCTNPPFSPTTAPYPVTIVLSPTR*\n"
          ]
        }
      ],
      "source": [
        "my_gene = record[3485:3857]\n",
        "print (my_gene.seq.translate(table=\"Bacterial\"))"
      ]
    },
    {
      "cell_type": "markdown",
      "metadata": {
        "id": "frI0hGYceSKC"
      },
      "source": [
        "Now, let's find out more about this gene, using the NCBI Entrez database. We learned the accession number above: `GeneID: ['GI:45478715', 'GeneID:2767720']`.\n",
        "\n",
        "**20 May 2020**: Updated the following two cells to reflect changes in NCBI's Entrez database."
      ]
    },
    {
      "cell_type": "code",
      "execution_count": 10,
      "metadata": {
        "id": "YJivlsXfeSKC"
      },
      "outputs": [],
      "source": [
        "from Bio import Entrez"
      ]
    },
    {
      "cell_type": "code",
      "execution_count": 11,
      "metadata": {
        "id": "ugCdq8HweSKD",
        "outputId": "c96561e7-ee11-404c-cd0c-24422042866a",
        "colab": {
          "base_uri": "https://localhost:8080/"
        }
      },
      "outputs": [
        {
          "output_type": "stream",
          "name": "stdout",
          "text": [
            "LOCUS       AAS58761                 123 aa            linear   BCT 26-JUL-2016\n",
            "DEFINITION  conserved hypothetical protein (plasmid) [Yersinia pestis biovar\n",
            "            Microtus str. 91001].\n",
            "ACCESSION   AAS58761\n",
            "VERSION     AAS58761.1\n",
            "DBLINK      BioProject: PRJNA10638\n",
            "            BioSample: SAMN02602970\n",
            "DBSOURCE    accession AE017046.1\n",
            "KEYWORDS    .\n",
            "SOURCE      Yersinia pestis biovar Microtus str. 91001\n",
            "  ORGANISM  Yersinia pestis biovar Microtus str. 91001\n",
            "            Bacteria; Pseudomonadati; Pseudomonadota; Gammaproteobacteria;\n",
            "            Enterobacterales; Yersiniaceae; Yersinia.\n",
            "REFERENCE   1  (residues 1 to 123)\n",
            "  AUTHORS   Song,Y., Tong,Z., Wang,J., Wang,L., Guo,Z., Han,Y., Zhang,J.,\n",
            "            Pei,D., Zhou,D., Qin,H., Pang,X., Han,Y., Zhai,J., Li,M., Cui,B.,\n",
            "            Qi,Z., Jin,L., Dai,R., Chen,F., Li,S., Ye,C., Du,Z., Lin,W.,\n",
            "            Wang,J., Yu,J., Yang,H., Wang,J., Huang,P. and Yang,R.\n",
            "  TITLE     Complete genome sequence of Yersinia pestis strain 91001, an\n",
            "            isolate avirulent to humans\n",
            "  JOURNAL   DNA Res. 11 (3), 179-197 (2004)\n",
            "   PUBMED   15368893\n",
            "REFERENCE   2  (residues 1 to 123)\n",
            "  AUTHORS   Zhou,D., Tong,Z., Song,Y., Han,Y., Pei,D., Pang,X., Zhai,J., Li,M.,\n",
            "            Cui,B., Qi,Z., Jin,L., Dai,R., Du,Z., Wang,J., Guo,Z., Wang,J.,\n",
            "            Huang,P. and Yang,R.\n",
            "  TITLE     Genetics of metabolic variations between Yersinia pestis biovars\n",
            "            and the proposal of a new biovar, microtus\n",
            "  JOURNAL   J. Bacteriol. 186 (15), 5147-5152 (2004)\n",
            "   PUBMED   15262951\n",
            "REFERENCE   3  (residues 1 to 123)\n",
            "  AUTHORS   Song,Y., Tong,Z., Wang,L., Han,Y., Zhang,J., Pei,D., Wang,J.,\n",
            "            Zhou,D., Han,Y., Pang,X., Zhai,J., Chen,F., Qin,H., Wang,J., Li,S.,\n",
            "            Guo,Z., Ye,C., Du,Z., Lin,W., Wang,J., Yu,J., Yang,H., Wang,J.,\n",
            "            Huang,P. and Yang,R.\n",
            "  TITLE     Direct Submission\n",
            "  JOURNAL   Submitted (24-APR-2003) The Institute of Microbiology and\n",
            "            Epidemiology, Academy of Military Medical Sciences, No. 20,\n",
            "            Dongdajie Street, Fengtai District, Beijing 100071, People's\n",
            "            Republic of China\n",
            "COMMENT     Method: conceptual translation.\n",
            "FEATURES             Location/Qualifiers\n",
            "     source          1..123\n",
            "                     /organism=\"Yersinia pestis biovar Microtus str. 91001\"\n",
            "                     /strain=\"91001\"\n",
            "                     /sub_species=\"microtus\"\n",
            "                     /db_xref=\"taxon:229193\"\n",
            "                     /plasmid=\"pPCP1\"\n",
            "                     /note=\"biovar: Microtus\"\n",
            "     Protein         1..123\n",
            "                     /product=\"conserved hypothetical protein\"\n",
            "     CDS             1..123\n",
            "                     /locus_tag=\"YP_pPCP04\"\n",
            "                     /old_locus_tag=\"pPCP04\"\n",
            "                     /coded_by=\"AE017046.1:3486..3857\"\n",
            "                     /note=\"Best Blastp hit = gi|321919|pir||JQ1541\n",
            "                     hypothetical 16.9K protein - Salmonella typhi murium\n",
            "                     plasmid NTP16.\"\n",
            "                     /transl_table=11\n",
            "ORIGIN      \n",
            "        1 mskkrrpqkr prrrrffhrl rppdehhknr rssqrwrnpt glkdtrrfpp eapscallfr\n",
            "       61 pcrlpdtspp fslreawrfl iahavgisvr crsfapswav ctnppfsptt apypvtivls\n",
            "      121 ptr\n",
            "//\n",
            "\n",
            "\n"
          ]
        }
      ],
      "source": [
        "Entrez.email = \"A.N.Other@example.com\"  # Always tell NCBI who you are\n",
        "with Entrez.efetch (db=\"protein\",rettype=\"gb\",retmode=\"text\",id=\"AAS58761\") as handle:\n",
        "   print (handle.read())\n",
        "# handle = Entrez.efetch (db=\"nucleotide\",id=\"45478715\",rettype=\"gb\",retmode=\"text\")\n",
        "# print (handle.read())"
      ]
    },
    {
      "cell_type": "markdown",
      "metadata": {
        "id": "dAKEqtoAeSKD"
      },
      "source": [
        "Jupyter also supports interactive data exploration. Here we'll add an interactive map, just as in our June [mapping feature](https://www.nature.com/articles/d41586-018-05331-6) -- something you might do when working with geospatial data. This requires the Python Leaflet library, folium."
      ]
    },
    {
      "cell_type": "code",
      "execution_count": 12,
      "metadata": {
        "id": "mGCdJ5IWeSKD"
      },
      "outputs": [],
      "source": [
        "import folium"
      ]
    },
    {
      "cell_type": "markdown",
      "metadata": {
        "id": "0F5wzdUQeSKD"
      },
      "source": [
        "Now we create a simple map: a few points in London, Oxford and Cambridge, overlaid on either a street map, or on a map of geological data provided by the [Macrostrat Project](https://macrostrat.org/)."
      ]
    },
    {
      "cell_type": "code",
      "execution_count": 13,
      "metadata": {
        "id": "HhfMPjbSeSKE"
      },
      "outputs": [],
      "source": [
        "coords = {\n",
        "    0: { \"name\": \"Nature\", \"lat\": 51.533925, \"long\": -0.121553 },\n",
        "    1: { \"name\": \"Francis Crick Institite\", \"lat\": 51.531877, \"long\": -0.128767 },\n",
        "    2: { \"name\": \"MRC Laboratory for Molecular Cell Biology\", \"lat\": 51.524435, \"long\": -0.132495 },\n",
        "    3: { \"name\": \"Kings College London\", \"lat\": 51.511573, \"long\": -0.116083 },\n",
        "    4: { \"name\": \"Imperial College London\", \"lat\": 51.498780, \"long\": -0.174888 },\n",
        "    5: { \"name\": \"Cambridge University\", \"lat\": 52.206960, \"long\": 0.115034 },\n",
        "    6: { \"name\": \"Oxford University\", \"lat\": 51.754843, \"long\": -1.254302 },\n",
        "    7: { \"name\": \"Platform 9 3/4\", \"lat\": 51.532349, \"long\": -0.123806 }\n",
        "}"
      ]
    },
    {
      "cell_type": "code",
      "execution_count": 14,
      "metadata": {
        "id": "3o1bnZfieSKE",
        "outputId": "0264de9a-265f-483e-e6a7-f663d6ca8daa",
        "colab": {
          "base_uri": "https://localhost:8080/"
        }
      },
      "outputs": [
        {
          "output_type": "execute_result",
          "data": {
            "text/plain": [
              "<folium.features.LatLngPopup at 0x7e587835d190>"
            ]
          },
          "metadata": {},
          "execution_count": 14
        }
      ],
      "source": [
        "m = folium.Map(location = [51.8561, -0.2966], tiles = 'CartoDB positron', zoom_start = 9)\n",
        "\n",
        "# add the locations to the map\n",
        "for key in coords.keys():\n",
        "    folium.CircleMarker(\n",
        "    location=[coords[key]['lat'], coords[key]['long']],\n",
        "    popup=coords[key]['name'],\n",
        "    color=('crimson' if coords[key]['name'] == 'Nature' else 'blue'),\n",
        "    fill=False,\n",
        "    ).add_to(m)\n",
        "\n",
        "# pull in the Macrostrat tile layer\n",
        "folium.TileLayer(tiles='https://tiles.macrostrat.org/carto/{z}/{x}/{y}.png',\n",
        "                 attr='Macrostrat', name='Macrostrat').add_to(m)\n",
        "folium.LayerControl().add_to(m) # allow user to switch between layers\n",
        "folium.LatLngPopup().add_to(m) # click on the map to get Lat/Long in a popup"
      ]
    },
    {
      "cell_type": "markdown",
      "metadata": {
        "id": "c0d8LEpgeSKE"
      },
      "source": [
        "Draw the map. **Note that this map is interactive**: you can zoom, pan, click the points of interest, and alternate between the two layers (by clicking on the tiles icon in the upper-right corner of the map). If you click anywhere on the map, a popup will appear showing the latitude and longitude of that position."
      ]
    },
    {
      "cell_type": "code",
      "execution_count": 15,
      "metadata": {
        "id": "iyMm74jOeSKE",
        "outputId": "3204582e-73d5-4ffb-9515-8bb7418c0166",
        "colab": {
          "base_uri": "https://localhost:8080/",
          "height": 760
        }
      },
      "outputs": [
        {
          "output_type": "execute_result",
          "data": {
            "text/plain": [
              "<folium.folium.Map at 0x7e5870363f50>"
            ],
            "text/html": [
              "<div style=\"width:100%;\"><div style=\"position:relative;width:100%;height:0;padding-bottom:60%;\"><span style=\"color:#565656\">Make this Notebook Trusted to load map: File -> Trust Notebook</span><iframe srcdoc=\"&lt;!DOCTYPE html&gt;\n",
              "&lt;html&gt;\n",
              "&lt;head&gt;\n",
              "    \n",
              "    &lt;meta http-equiv=&quot;content-type&quot; content=&quot;text/html; charset=UTF-8&quot; /&gt;\n",
              "    &lt;script src=&quot;https://cdn.jsdelivr.net/npm/leaflet@1.9.3/dist/leaflet.js&quot;&gt;&lt;/script&gt;\n",
              "    &lt;script src=&quot;https://code.jquery.com/jquery-3.7.1.min.js&quot;&gt;&lt;/script&gt;\n",
              "    &lt;script src=&quot;https://cdn.jsdelivr.net/npm/bootstrap@5.2.2/dist/js/bootstrap.bundle.min.js&quot;&gt;&lt;/script&gt;\n",
              "    &lt;script src=&quot;https://cdnjs.cloudflare.com/ajax/libs/Leaflet.awesome-markers/2.0.2/leaflet.awesome-markers.js&quot;&gt;&lt;/script&gt;\n",
              "    &lt;link rel=&quot;stylesheet&quot; href=&quot;https://cdn.jsdelivr.net/npm/leaflet@1.9.3/dist/leaflet.css&quot;/&gt;\n",
              "    &lt;link rel=&quot;stylesheet&quot; href=&quot;https://cdn.jsdelivr.net/npm/bootstrap@5.2.2/dist/css/bootstrap.min.css&quot;/&gt;\n",
              "    &lt;link rel=&quot;stylesheet&quot; href=&quot;https://netdna.bootstrapcdn.com/bootstrap/3.0.0/css/bootstrap-glyphicons.css&quot;/&gt;\n",
              "    &lt;link rel=&quot;stylesheet&quot; href=&quot;https://cdn.jsdelivr.net/npm/@fortawesome/fontawesome-free@6.2.0/css/all.min.css&quot;/&gt;\n",
              "    &lt;link rel=&quot;stylesheet&quot; href=&quot;https://cdnjs.cloudflare.com/ajax/libs/Leaflet.awesome-markers/2.0.2/leaflet.awesome-markers.css&quot;/&gt;\n",
              "    &lt;link rel=&quot;stylesheet&quot; href=&quot;https://cdn.jsdelivr.net/gh/python-visualization/folium/folium/templates/leaflet.awesome.rotate.min.css&quot;/&gt;\n",
              "    \n",
              "            &lt;meta name=&quot;viewport&quot; content=&quot;width=device-width,\n",
              "                initial-scale=1.0, maximum-scale=1.0, user-scalable=no&quot; /&gt;\n",
              "            &lt;style&gt;\n",
              "                #map_1a7b7b79b64417e5c8be6531e026e306 {\n",
              "                    position: relative;\n",
              "                    width: 100.0%;\n",
              "                    height: 100.0%;\n",
              "                    left: 0.0%;\n",
              "                    top: 0.0%;\n",
              "                }\n",
              "                .leaflet-container { font-size: 1rem; }\n",
              "            &lt;/style&gt;\n",
              "\n",
              "            &lt;style&gt;html, body {\n",
              "                width: 100%;\n",
              "                height: 100%;\n",
              "                margin: 0;\n",
              "                padding: 0;\n",
              "            }\n",
              "            &lt;/style&gt;\n",
              "\n",
              "            &lt;style&gt;#map {\n",
              "                position:absolute;\n",
              "                top:0;\n",
              "                bottom:0;\n",
              "                right:0;\n",
              "                left:0;\n",
              "                }\n",
              "            &lt;/style&gt;\n",
              "\n",
              "            &lt;script&gt;\n",
              "                L_NO_TOUCH = false;\n",
              "                L_DISABLE_3D = false;\n",
              "            &lt;/script&gt;\n",
              "\n",
              "        \n",
              "&lt;/head&gt;\n",
              "&lt;body&gt;\n",
              "    \n",
              "    \n",
              "            &lt;div class=&quot;folium-map&quot; id=&quot;map_1a7b7b79b64417e5c8be6531e026e306&quot; &gt;&lt;/div&gt;\n",
              "        \n",
              "&lt;/body&gt;\n",
              "&lt;script&gt;\n",
              "    \n",
              "    \n",
              "            var map_1a7b7b79b64417e5c8be6531e026e306 = L.map(\n",
              "                &quot;map_1a7b7b79b64417e5c8be6531e026e306&quot;,\n",
              "                {\n",
              "                    center: [51.8561, -0.2966],\n",
              "                    crs: L.CRS.EPSG3857,\n",
              "                    ...{\n",
              "  &quot;zoom&quot;: 9,\n",
              "  &quot;zoomControl&quot;: true,\n",
              "  &quot;preferCanvas&quot;: false,\n",
              "}\n",
              "\n",
              "                }\n",
              "            );\n",
              "\n",
              "            \n",
              "\n",
              "        \n",
              "    \n",
              "            var tile_layer_12450eff3988dc52d0bd562809f40560 = L.tileLayer(\n",
              "                &quot;https://{s}.basemaps.cartocdn.com/light_all/{z}/{x}/{y}{r}.png&quot;,\n",
              "                {\n",
              "  &quot;minZoom&quot;: 0,\n",
              "  &quot;maxZoom&quot;: 20,\n",
              "  &quot;maxNativeZoom&quot;: 20,\n",
              "  &quot;noWrap&quot;: false,\n",
              "  &quot;attribution&quot;: &quot;\\u0026copy; \\u003ca href=\\&quot;https://www.openstreetmap.org/copyright\\&quot;\\u003eOpenStreetMap\\u003c/a\\u003e contributors \\u0026copy; \\u003ca href=\\&quot;https://carto.com/attributions\\&quot;\\u003eCARTO\\u003c/a\\u003e&quot;,\n",
              "  &quot;subdomains&quot;: &quot;abcd&quot;,\n",
              "  &quot;detectRetina&quot;: false,\n",
              "  &quot;tms&quot;: false,\n",
              "  &quot;opacity&quot;: 1,\n",
              "}\n",
              "\n",
              "            );\n",
              "        \n",
              "    \n",
              "            tile_layer_12450eff3988dc52d0bd562809f40560.addTo(map_1a7b7b79b64417e5c8be6531e026e306);\n",
              "        \n",
              "    \n",
              "            var circle_marker_6056785e837e239427084ba08bf10c49 = L.circleMarker(\n",
              "                [51.533925, -0.121553],\n",
              "                {&quot;bubblingMouseEvents&quot;: true, &quot;color&quot;: &quot;crimson&quot;, &quot;dashArray&quot;: null, &quot;dashOffset&quot;: null, &quot;fill&quot;: false, &quot;fillColor&quot;: &quot;crimson&quot;, &quot;fillOpacity&quot;: 0.2, &quot;fillRule&quot;: &quot;evenodd&quot;, &quot;lineCap&quot;: &quot;round&quot;, &quot;lineJoin&quot;: &quot;round&quot;, &quot;opacity&quot;: 1.0, &quot;radius&quot;: 10, &quot;stroke&quot;: true, &quot;weight&quot;: 3}\n",
              "            ).addTo(map_1a7b7b79b64417e5c8be6531e026e306);\n",
              "        \n",
              "    \n",
              "        var popup_5b1b83c2258c21a66cd17dd6901cc908 = L.popup({\n",
              "  &quot;maxWidth&quot;: &quot;100%&quot;,\n",
              "});\n",
              "\n",
              "        \n",
              "            \n",
              "                var html_0f695f46354475cdcdce2a033c0f2df9 = $(`&lt;div id=&quot;html_0f695f46354475cdcdce2a033c0f2df9&quot; style=&quot;width: 100.0%; height: 100.0%;&quot;&gt;Nature&lt;/div&gt;`)[0];\n",
              "                popup_5b1b83c2258c21a66cd17dd6901cc908.setContent(html_0f695f46354475cdcdce2a033c0f2df9);\n",
              "            \n",
              "        \n",
              "\n",
              "        circle_marker_6056785e837e239427084ba08bf10c49.bindPopup(popup_5b1b83c2258c21a66cd17dd6901cc908)\n",
              "        ;\n",
              "\n",
              "        \n",
              "    \n",
              "    \n",
              "            var circle_marker_667946bf9de562edebaf246d310d59cc = L.circleMarker(\n",
              "                [51.531877, -0.128767],\n",
              "                {&quot;bubblingMouseEvents&quot;: true, &quot;color&quot;: &quot;blue&quot;, &quot;dashArray&quot;: null, &quot;dashOffset&quot;: null, &quot;fill&quot;: false, &quot;fillColor&quot;: &quot;blue&quot;, &quot;fillOpacity&quot;: 0.2, &quot;fillRule&quot;: &quot;evenodd&quot;, &quot;lineCap&quot;: &quot;round&quot;, &quot;lineJoin&quot;: &quot;round&quot;, &quot;opacity&quot;: 1.0, &quot;radius&quot;: 10, &quot;stroke&quot;: true, &quot;weight&quot;: 3}\n",
              "            ).addTo(map_1a7b7b79b64417e5c8be6531e026e306);\n",
              "        \n",
              "    \n",
              "        var popup_902a06a102bcd6ccc1479971567290bd = L.popup({\n",
              "  &quot;maxWidth&quot;: &quot;100%&quot;,\n",
              "});\n",
              "\n",
              "        \n",
              "            \n",
              "                var html_2a436de998586ef29c6dcf151ca4b36c = $(`&lt;div id=&quot;html_2a436de998586ef29c6dcf151ca4b36c&quot; style=&quot;width: 100.0%; height: 100.0%;&quot;&gt;Francis Crick Institite&lt;/div&gt;`)[0];\n",
              "                popup_902a06a102bcd6ccc1479971567290bd.setContent(html_2a436de998586ef29c6dcf151ca4b36c);\n",
              "            \n",
              "        \n",
              "\n",
              "        circle_marker_667946bf9de562edebaf246d310d59cc.bindPopup(popup_902a06a102bcd6ccc1479971567290bd)\n",
              "        ;\n",
              "\n",
              "        \n",
              "    \n",
              "    \n",
              "            var circle_marker_bfd7a97004cee19caa28868cc22da0dd = L.circleMarker(\n",
              "                [51.524435, -0.132495],\n",
              "                {&quot;bubblingMouseEvents&quot;: true, &quot;color&quot;: &quot;blue&quot;, &quot;dashArray&quot;: null, &quot;dashOffset&quot;: null, &quot;fill&quot;: false, &quot;fillColor&quot;: &quot;blue&quot;, &quot;fillOpacity&quot;: 0.2, &quot;fillRule&quot;: &quot;evenodd&quot;, &quot;lineCap&quot;: &quot;round&quot;, &quot;lineJoin&quot;: &quot;round&quot;, &quot;opacity&quot;: 1.0, &quot;radius&quot;: 10, &quot;stroke&quot;: true, &quot;weight&quot;: 3}\n",
              "            ).addTo(map_1a7b7b79b64417e5c8be6531e026e306);\n",
              "        \n",
              "    \n",
              "        var popup_086cca2f6949bbab04733c26d7aa18cb = L.popup({\n",
              "  &quot;maxWidth&quot;: &quot;100%&quot;,\n",
              "});\n",
              "\n",
              "        \n",
              "            \n",
              "                var html_8f5c8306983f65e1242b79e4e5fee155 = $(`&lt;div id=&quot;html_8f5c8306983f65e1242b79e4e5fee155&quot; style=&quot;width: 100.0%; height: 100.0%;&quot;&gt;MRC Laboratory for Molecular Cell Biology&lt;/div&gt;`)[0];\n",
              "                popup_086cca2f6949bbab04733c26d7aa18cb.setContent(html_8f5c8306983f65e1242b79e4e5fee155);\n",
              "            \n",
              "        \n",
              "\n",
              "        circle_marker_bfd7a97004cee19caa28868cc22da0dd.bindPopup(popup_086cca2f6949bbab04733c26d7aa18cb)\n",
              "        ;\n",
              "\n",
              "        \n",
              "    \n",
              "    \n",
              "            var circle_marker_e64e85c38eb9dd03bbe6e6082dfb432b = L.circleMarker(\n",
              "                [51.511573, -0.116083],\n",
              "                {&quot;bubblingMouseEvents&quot;: true, &quot;color&quot;: &quot;blue&quot;, &quot;dashArray&quot;: null, &quot;dashOffset&quot;: null, &quot;fill&quot;: false, &quot;fillColor&quot;: &quot;blue&quot;, &quot;fillOpacity&quot;: 0.2, &quot;fillRule&quot;: &quot;evenodd&quot;, &quot;lineCap&quot;: &quot;round&quot;, &quot;lineJoin&quot;: &quot;round&quot;, &quot;opacity&quot;: 1.0, &quot;radius&quot;: 10, &quot;stroke&quot;: true, &quot;weight&quot;: 3}\n",
              "            ).addTo(map_1a7b7b79b64417e5c8be6531e026e306);\n",
              "        \n",
              "    \n",
              "        var popup_c01d197d60bc56a71d605e9d76276d88 = L.popup({\n",
              "  &quot;maxWidth&quot;: &quot;100%&quot;,\n",
              "});\n",
              "\n",
              "        \n",
              "            \n",
              "                var html_a8b2ba1d25aae6dd53f1bf7737194541 = $(`&lt;div id=&quot;html_a8b2ba1d25aae6dd53f1bf7737194541&quot; style=&quot;width: 100.0%; height: 100.0%;&quot;&gt;Kings College London&lt;/div&gt;`)[0];\n",
              "                popup_c01d197d60bc56a71d605e9d76276d88.setContent(html_a8b2ba1d25aae6dd53f1bf7737194541);\n",
              "            \n",
              "        \n",
              "\n",
              "        circle_marker_e64e85c38eb9dd03bbe6e6082dfb432b.bindPopup(popup_c01d197d60bc56a71d605e9d76276d88)\n",
              "        ;\n",
              "\n",
              "        \n",
              "    \n",
              "    \n",
              "            var circle_marker_cbb3990befde357970818ba5e5c02cf1 = L.circleMarker(\n",
              "                [51.49878, -0.174888],\n",
              "                {&quot;bubblingMouseEvents&quot;: true, &quot;color&quot;: &quot;blue&quot;, &quot;dashArray&quot;: null, &quot;dashOffset&quot;: null, &quot;fill&quot;: false, &quot;fillColor&quot;: &quot;blue&quot;, &quot;fillOpacity&quot;: 0.2, &quot;fillRule&quot;: &quot;evenodd&quot;, &quot;lineCap&quot;: &quot;round&quot;, &quot;lineJoin&quot;: &quot;round&quot;, &quot;opacity&quot;: 1.0, &quot;radius&quot;: 10, &quot;stroke&quot;: true, &quot;weight&quot;: 3}\n",
              "            ).addTo(map_1a7b7b79b64417e5c8be6531e026e306);\n",
              "        \n",
              "    \n",
              "        var popup_465c8b2938fee1b65b1f0e01439fdcd5 = L.popup({\n",
              "  &quot;maxWidth&quot;: &quot;100%&quot;,\n",
              "});\n",
              "\n",
              "        \n",
              "            \n",
              "                var html_31d4eba916fbf4ad41fe4e31e08298d8 = $(`&lt;div id=&quot;html_31d4eba916fbf4ad41fe4e31e08298d8&quot; style=&quot;width: 100.0%; height: 100.0%;&quot;&gt;Imperial College London&lt;/div&gt;`)[0];\n",
              "                popup_465c8b2938fee1b65b1f0e01439fdcd5.setContent(html_31d4eba916fbf4ad41fe4e31e08298d8);\n",
              "            \n",
              "        \n",
              "\n",
              "        circle_marker_cbb3990befde357970818ba5e5c02cf1.bindPopup(popup_465c8b2938fee1b65b1f0e01439fdcd5)\n",
              "        ;\n",
              "\n",
              "        \n",
              "    \n",
              "    \n",
              "            var circle_marker_1b85235c3c68494c685462df441cc5ef = L.circleMarker(\n",
              "                [52.20696, 0.115034],\n",
              "                {&quot;bubblingMouseEvents&quot;: true, &quot;color&quot;: &quot;blue&quot;, &quot;dashArray&quot;: null, &quot;dashOffset&quot;: null, &quot;fill&quot;: false, &quot;fillColor&quot;: &quot;blue&quot;, &quot;fillOpacity&quot;: 0.2, &quot;fillRule&quot;: &quot;evenodd&quot;, &quot;lineCap&quot;: &quot;round&quot;, &quot;lineJoin&quot;: &quot;round&quot;, &quot;opacity&quot;: 1.0, &quot;radius&quot;: 10, &quot;stroke&quot;: true, &quot;weight&quot;: 3}\n",
              "            ).addTo(map_1a7b7b79b64417e5c8be6531e026e306);\n",
              "        \n",
              "    \n",
              "        var popup_0ffb86535925e04f7bf33b63db2ff1ed = L.popup({\n",
              "  &quot;maxWidth&quot;: &quot;100%&quot;,\n",
              "});\n",
              "\n",
              "        \n",
              "            \n",
              "                var html_8548dc5578c1d3b03592e9a65e2065f1 = $(`&lt;div id=&quot;html_8548dc5578c1d3b03592e9a65e2065f1&quot; style=&quot;width: 100.0%; height: 100.0%;&quot;&gt;Cambridge University&lt;/div&gt;`)[0];\n",
              "                popup_0ffb86535925e04f7bf33b63db2ff1ed.setContent(html_8548dc5578c1d3b03592e9a65e2065f1);\n",
              "            \n",
              "        \n",
              "\n",
              "        circle_marker_1b85235c3c68494c685462df441cc5ef.bindPopup(popup_0ffb86535925e04f7bf33b63db2ff1ed)\n",
              "        ;\n",
              "\n",
              "        \n",
              "    \n",
              "    \n",
              "            var circle_marker_ee4233de61077016b0594f115e29112c = L.circleMarker(\n",
              "                [51.754843, -1.254302],\n",
              "                {&quot;bubblingMouseEvents&quot;: true, &quot;color&quot;: &quot;blue&quot;, &quot;dashArray&quot;: null, &quot;dashOffset&quot;: null, &quot;fill&quot;: false, &quot;fillColor&quot;: &quot;blue&quot;, &quot;fillOpacity&quot;: 0.2, &quot;fillRule&quot;: &quot;evenodd&quot;, &quot;lineCap&quot;: &quot;round&quot;, &quot;lineJoin&quot;: &quot;round&quot;, &quot;opacity&quot;: 1.0, &quot;radius&quot;: 10, &quot;stroke&quot;: true, &quot;weight&quot;: 3}\n",
              "            ).addTo(map_1a7b7b79b64417e5c8be6531e026e306);\n",
              "        \n",
              "    \n",
              "        var popup_8e3a38c2e5cedcd691bb3e27e6179bf6 = L.popup({\n",
              "  &quot;maxWidth&quot;: &quot;100%&quot;,\n",
              "});\n",
              "\n",
              "        \n",
              "            \n",
              "                var html_aeeac370268bb7b7c4348ed75978a7b9 = $(`&lt;div id=&quot;html_aeeac370268bb7b7c4348ed75978a7b9&quot; style=&quot;width: 100.0%; height: 100.0%;&quot;&gt;Oxford University&lt;/div&gt;`)[0];\n",
              "                popup_8e3a38c2e5cedcd691bb3e27e6179bf6.setContent(html_aeeac370268bb7b7c4348ed75978a7b9);\n",
              "            \n",
              "        \n",
              "\n",
              "        circle_marker_ee4233de61077016b0594f115e29112c.bindPopup(popup_8e3a38c2e5cedcd691bb3e27e6179bf6)\n",
              "        ;\n",
              "\n",
              "        \n",
              "    \n",
              "    \n",
              "            var circle_marker_f008e716054ef086d648fea26a27bc1d = L.circleMarker(\n",
              "                [51.532349, -0.123806],\n",
              "                {&quot;bubblingMouseEvents&quot;: true, &quot;color&quot;: &quot;blue&quot;, &quot;dashArray&quot;: null, &quot;dashOffset&quot;: null, &quot;fill&quot;: false, &quot;fillColor&quot;: &quot;blue&quot;, &quot;fillOpacity&quot;: 0.2, &quot;fillRule&quot;: &quot;evenodd&quot;, &quot;lineCap&quot;: &quot;round&quot;, &quot;lineJoin&quot;: &quot;round&quot;, &quot;opacity&quot;: 1.0, &quot;radius&quot;: 10, &quot;stroke&quot;: true, &quot;weight&quot;: 3}\n",
              "            ).addTo(map_1a7b7b79b64417e5c8be6531e026e306);\n",
              "        \n",
              "    \n",
              "        var popup_2d7ba81681adc8247950d19c33302547 = L.popup({\n",
              "  &quot;maxWidth&quot;: &quot;100%&quot;,\n",
              "});\n",
              "\n",
              "        \n",
              "            \n",
              "                var html_bd828a8d4085b5dc33af1ac61ba28579 = $(`&lt;div id=&quot;html_bd828a8d4085b5dc33af1ac61ba28579&quot; style=&quot;width: 100.0%; height: 100.0%;&quot;&gt;Platform 9 3/4&lt;/div&gt;`)[0];\n",
              "                popup_2d7ba81681adc8247950d19c33302547.setContent(html_bd828a8d4085b5dc33af1ac61ba28579);\n",
              "            \n",
              "        \n",
              "\n",
              "        circle_marker_f008e716054ef086d648fea26a27bc1d.bindPopup(popup_2d7ba81681adc8247950d19c33302547)\n",
              "        ;\n",
              "\n",
              "        \n",
              "    \n",
              "    \n",
              "            var tile_layer_004c27008d5212a4304b40384dcf9dfc = L.tileLayer(\n",
              "                &quot;https://tiles.macrostrat.org/carto/{z}/{x}/{y}.png&quot;,\n",
              "                {\n",
              "  &quot;minZoom&quot;: 0,\n",
              "  &quot;maxZoom&quot;: 18,\n",
              "  &quot;maxNativeZoom&quot;: 18,\n",
              "  &quot;noWrap&quot;: false,\n",
              "  &quot;attribution&quot;: &quot;Macrostrat&quot;,\n",
              "  &quot;subdomains&quot;: &quot;abc&quot;,\n",
              "  &quot;detectRetina&quot;: false,\n",
              "  &quot;tms&quot;: false,\n",
              "  &quot;opacity&quot;: 1,\n",
              "}\n",
              "\n",
              "            );\n",
              "        \n",
              "    \n",
              "            tile_layer_004c27008d5212a4304b40384dcf9dfc.addTo(map_1a7b7b79b64417e5c8be6531e026e306);\n",
              "        \n",
              "    \n",
              "            var layer_control_ebe2d9c3fbb9952fd3d2711ab11dacb3_layers = {\n",
              "                base_layers : {\n",
              "                    &quot;cartodbpositron&quot; : tile_layer_12450eff3988dc52d0bd562809f40560,\n",
              "                    &quot;Macrostrat&quot; : tile_layer_004c27008d5212a4304b40384dcf9dfc,\n",
              "                },\n",
              "                overlays :  {\n",
              "                },\n",
              "            };\n",
              "            let layer_control_ebe2d9c3fbb9952fd3d2711ab11dacb3 = L.control.layers(\n",
              "                layer_control_ebe2d9c3fbb9952fd3d2711ab11dacb3_layers.base_layers,\n",
              "                layer_control_ebe2d9c3fbb9952fd3d2711ab11dacb3_layers.overlays,\n",
              "                {\n",
              "  &quot;position&quot;: &quot;topright&quot;,\n",
              "  &quot;collapsed&quot;: true,\n",
              "  &quot;autoZIndex&quot;: true,\n",
              "}\n",
              "            ).addTo(map_1a7b7b79b64417e5c8be6531e026e306);\n",
              "\n",
              "        \n",
              "    \n",
              "                var lat_lng_popup_b4702ab03f337a63f8fe28d68e66f229 = L.popup();\n",
              "                function latLngPop(e) {\n",
              "                    lat_lng_popup_b4702ab03f337a63f8fe28d68e66f229\n",
              "                        .setLatLng(e.latlng)\n",
              "                        .setContent(&quot;Latitude: &quot; + e.latlng.lat.toFixed(4) +\n",
              "                                    &quot;&lt;br&gt;Longitude: &quot; + e.latlng.lng.toFixed(4))\n",
              "                        .openOn(map_1a7b7b79b64417e5c8be6531e026e306);\n",
              "                    }\n",
              "                map_1a7b7b79b64417e5c8be6531e026e306.on(&#x27;click&#x27;, latLngPop);\n",
              "            \n",
              "&lt;/script&gt;\n",
              "&lt;/html&gt;\" style=\"position:absolute;width:100%;height:100%;left:0;top:0;border:none !important;\" allowfullscreen webkitallowfullscreen mozallowfullscreen></iframe></div></div>"
            ]
          },
          "metadata": {},
          "execution_count": 15
        }
      ],
      "source": [
        "m"
      ]
    },
    {
      "cell_type": "markdown",
      "metadata": {
        "id": "sCF4l4hUeSKF"
      },
      "source": [
        "Document our session, for [computational reproducibility](https://www.nature.com/articles/d41586-018-05990-5)!"
      ]
    },
    {
      "cell_type": "code",
      "execution_count": 16,
      "metadata": {
        "id": "cmJ4t2WBeSKF",
        "outputId": "f1eb3630-2159-4b8d-c1cd-2f29dcbe17d0",
        "colab": {
          "base_uri": "https://localhost:8080/"
        }
      },
      "outputs": [
        {
          "output_type": "stream",
          "name": "stdout",
          "text": [
            "{'commit_hash': 'fcc71cc32',\n",
            " 'commit_source': 'installation',\n",
            " 'default_encoding': 'utf-8',\n",
            " 'ipython_path': '/usr/local/lib/python3.12/dist-packages/IPython',\n",
            " 'ipython_version': '7.34.0',\n",
            " 'os_name': 'posix',\n",
            " 'platform': 'Linux-6.6.97+-x86_64-with-glibc2.35',\n",
            " 'sys_executable': '/usr/bin/python3',\n",
            " 'sys_platform': 'linux',\n",
            " 'sys_version': '3.12.11 (main, Jun  4 2025, 08:56:18) [GCC 11.4.0]'}\n"
          ]
        }
      ],
      "source": [
        "import IPython\n",
        "print(IPython.sys_info())"
      ]
    },
    {
      "cell_type": "code",
      "execution_count": 17,
      "metadata": {
        "id": "OvdKW4PEeSKF",
        "outputId": "9c80caf2-4ecc-4210-dca2-db4d7f1ac0b7",
        "colab": {
          "base_uri": "https://localhost:8080/"
        }
      },
      "outputs": [
        {
          "output_type": "stream",
          "name": "stdout",
          "text": [
            "biopython==1.85\n",
            "folium==0.20.0\n",
            "matplotlib==3.10.0\n",
            "matplotlib-inline==0.1.7\n",
            "matplotlib-venn==1.1.2\n"
          ]
        }
      ],
      "source": [
        "!pip freeze | grep -E 'folium|matplotlib|biopython'"
      ]
    },
    {
      "cell_type": "code",
      "execution_count": null,
      "metadata": {
        "id": "KsJpkFf2eSKF"
      },
      "outputs": [],
      "source": []
    }
  ],
  "metadata": {
    "kernelspec": {
      "display_name": "Python 3",
      "language": "python",
      "name": "python3"
    },
    "language_info": {
      "codemirror_mode": {
        "name": "ipython",
        "version": 3
      },
      "file_extension": ".py",
      "mimetype": "text/x-python",
      "name": "python",
      "nbconvert_exporter": "python",
      "pygments_lexer": "ipython3",
      "version": "3.7.6"
    },
    "colab": {
      "provenance": [],
      "include_colab_link": true
    }
  },
  "nbformat": 4,
  "nbformat_minor": 0
}